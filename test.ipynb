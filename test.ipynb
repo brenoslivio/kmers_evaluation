{
 "cells": [
  {
   "cell_type": "code",
   "execution_count": 1,
   "metadata": {},
   "outputs": [],
   "source": [
    "import pandas as pd\n",
    "import numpy as np"
   ]
  },
  {
   "cell_type": "code",
   "execution_count": 2,
   "metadata": {},
   "outputs": [
    {
     "name": "stdout",
     "output_type": "stream",
     "text": [
      "1\n"
     ]
    },
    {
     "ename": "ValueError",
     "evalue": "Shape of passed values is (1398102, 1), indices imply (1398102, 1398102)",
     "output_type": "error",
     "traceback": [
      "\u001b[0;31m---------------------------------------------------------------------------\u001b[0m",
      "\u001b[0;31mValueError\u001b[0m                                Traceback (most recent call last)",
      "\u001b[1;32m/home/brenoslivio/Documents/IC/kmers_evaluation/test.ipynb Cell 2'\u001b[0m in \u001b[0;36m<cell line: 18>\u001b[0;34m()\u001b[0m\n\u001b[1;32m     <a href='vscode-notebook-cell:/home/brenoslivio/Documents/IC/kmers_evaluation/test.ipynb#ch0000001?line=18'>19</a>\u001b[0m \u001b[39mprint\u001b[39m(i)\n\u001b[1;32m     <a href='vscode-notebook-cell:/home/brenoslivio/Documents/IC/kmers_evaluation/test.ipynb#ch0000001?line=19'>20</a>\u001b[0m data \u001b[39m=\u001b[39m np\u001b[39m.\u001b[39mloadtxt(finput, dtype\u001b[39m=\u001b[39m\u001b[39mstr\u001b[39m, skiprows\u001b[39m=\u001b[39mi, max_rows \u001b[39m=\u001b[39m row_loops, delimiter\u001b[39m=\u001b[39m\u001b[39m'\u001b[39m\u001b[39m,\u001b[39m\u001b[39m'\u001b[39m)\n\u001b[0;32m---> <a href='vscode-notebook-cell:/home/brenoslivio/Documents/IC/kmers_evaluation/test.ipynb#ch0000001?line=20'>21</a>\u001b[0m df_new \u001b[39m=\u001b[39m pd\u001b[39m.\u001b[39;49mDataFrame(data, columns\u001b[39m=\u001b[39;49mcolnames)\n\u001b[1;32m     <a href='vscode-notebook-cell:/home/brenoslivio/Documents/IC/kmers_evaluation/test.ipynb#ch0000001?line=21'>22</a>\u001b[0m df \u001b[39m=\u001b[39m df\u001b[39m.\u001b[39mappend(df_new\u001b[39m.\u001b[39mastype(column_types), ignore_index\u001b[39m=\u001b[39m\u001b[39mTrue\u001b[39;00m)\n\u001b[1;32m     <a href='vscode-notebook-cell:/home/brenoslivio/Documents/IC/kmers_evaluation/test.ipynb#ch0000001?line=23'>24</a>\u001b[0m \u001b[39mdel\u001b[39;00m df_new\n",
      "File \u001b[0;32m/var/data/python/lib/python3.9/site-packages/pandas/core/frame.py:694\u001b[0m, in \u001b[0;36mDataFrame.__init__\u001b[0;34m(self, data, index, columns, dtype, copy)\u001b[0m\n\u001b[1;32m    <a href='file:///var/data/python/lib/python3.9/site-packages/pandas/core/frame.py?line=683'>684</a>\u001b[0m         mgr \u001b[39m=\u001b[39m dict_to_mgr(\n\u001b[1;32m    <a href='file:///var/data/python/lib/python3.9/site-packages/pandas/core/frame.py?line=684'>685</a>\u001b[0m             \u001b[39m# error: Item \"ndarray\" of \"Union[ndarray, Series, Index]\" has no\u001b[39;00m\n\u001b[1;32m    <a href='file:///var/data/python/lib/python3.9/site-packages/pandas/core/frame.py?line=685'>686</a>\u001b[0m             \u001b[39m# attribute \"name\"\u001b[39;00m\n\u001b[0;32m   (...)\u001b[0m\n\u001b[1;32m    <a href='file:///var/data/python/lib/python3.9/site-packages/pandas/core/frame.py?line=690'>691</a>\u001b[0m             typ\u001b[39m=\u001b[39mmanager,\n\u001b[1;32m    <a href='file:///var/data/python/lib/python3.9/site-packages/pandas/core/frame.py?line=691'>692</a>\u001b[0m         )\n\u001b[1;32m    <a href='file:///var/data/python/lib/python3.9/site-packages/pandas/core/frame.py?line=692'>693</a>\u001b[0m     \u001b[39melse\u001b[39;00m:\n\u001b[0;32m--> <a href='file:///var/data/python/lib/python3.9/site-packages/pandas/core/frame.py?line=693'>694</a>\u001b[0m         mgr \u001b[39m=\u001b[39m ndarray_to_mgr(\n\u001b[1;32m    <a href='file:///var/data/python/lib/python3.9/site-packages/pandas/core/frame.py?line=694'>695</a>\u001b[0m             data,\n\u001b[1;32m    <a href='file:///var/data/python/lib/python3.9/site-packages/pandas/core/frame.py?line=695'>696</a>\u001b[0m             index,\n\u001b[1;32m    <a href='file:///var/data/python/lib/python3.9/site-packages/pandas/core/frame.py?line=696'>697</a>\u001b[0m             columns,\n\u001b[1;32m    <a href='file:///var/data/python/lib/python3.9/site-packages/pandas/core/frame.py?line=697'>698</a>\u001b[0m             dtype\u001b[39m=\u001b[39;49mdtype,\n\u001b[1;32m    <a href='file:///var/data/python/lib/python3.9/site-packages/pandas/core/frame.py?line=698'>699</a>\u001b[0m             copy\u001b[39m=\u001b[39;49mcopy,\n\u001b[1;32m    <a href='file:///var/data/python/lib/python3.9/site-packages/pandas/core/frame.py?line=699'>700</a>\u001b[0m             typ\u001b[39m=\u001b[39;49mmanager,\n\u001b[1;32m    <a href='file:///var/data/python/lib/python3.9/site-packages/pandas/core/frame.py?line=700'>701</a>\u001b[0m         )\n\u001b[1;32m    <a href='file:///var/data/python/lib/python3.9/site-packages/pandas/core/frame.py?line=702'>703</a>\u001b[0m \u001b[39m# For data is list-like, or Iterable (will consume into list)\u001b[39;00m\n\u001b[1;32m    <a href='file:///var/data/python/lib/python3.9/site-packages/pandas/core/frame.py?line=703'>704</a>\u001b[0m \u001b[39melif\u001b[39;00m is_list_like(data):\n",
      "File \u001b[0;32m/var/data/python/lib/python3.9/site-packages/pandas/core/internals/construction.py:351\u001b[0m, in \u001b[0;36mndarray_to_mgr\u001b[0;34m(values, index, columns, dtype, copy, typ)\u001b[0m\n\u001b[1;32m    <a href='file:///var/data/python/lib/python3.9/site-packages/pandas/core/internals/construction.py?line=345'>346</a>\u001b[0m \u001b[39m# _prep_ndarray ensures that values.ndim == 2 at this point\u001b[39;00m\n\u001b[1;32m    <a href='file:///var/data/python/lib/python3.9/site-packages/pandas/core/internals/construction.py?line=346'>347</a>\u001b[0m index, columns \u001b[39m=\u001b[39m _get_axes(\n\u001b[1;32m    <a href='file:///var/data/python/lib/python3.9/site-packages/pandas/core/internals/construction.py?line=347'>348</a>\u001b[0m     values\u001b[39m.\u001b[39mshape[\u001b[39m0\u001b[39m], values\u001b[39m.\u001b[39mshape[\u001b[39m1\u001b[39m], index\u001b[39m=\u001b[39mindex, columns\u001b[39m=\u001b[39mcolumns\n\u001b[1;32m    <a href='file:///var/data/python/lib/python3.9/site-packages/pandas/core/internals/construction.py?line=348'>349</a>\u001b[0m )\n\u001b[0;32m--> <a href='file:///var/data/python/lib/python3.9/site-packages/pandas/core/internals/construction.py?line=350'>351</a>\u001b[0m _check_values_indices_shape_match(values, index, columns)\n\u001b[1;32m    <a href='file:///var/data/python/lib/python3.9/site-packages/pandas/core/internals/construction.py?line=352'>353</a>\u001b[0m \u001b[39mif\u001b[39;00m typ \u001b[39m==\u001b[39m \u001b[39m\"\u001b[39m\u001b[39marray\u001b[39m\u001b[39m\"\u001b[39m:\n\u001b[1;32m    <a href='file:///var/data/python/lib/python3.9/site-packages/pandas/core/internals/construction.py?line=354'>355</a>\u001b[0m     \u001b[39mif\u001b[39;00m \u001b[39missubclass\u001b[39m(values\u001b[39m.\u001b[39mdtype\u001b[39m.\u001b[39mtype, \u001b[39mstr\u001b[39m):\n",
      "File \u001b[0;32m/var/data/python/lib/python3.9/site-packages/pandas/core/internals/construction.py:422\u001b[0m, in \u001b[0;36m_check_values_indices_shape_match\u001b[0;34m(values, index, columns)\u001b[0m\n\u001b[1;32m    <a href='file:///var/data/python/lib/python3.9/site-packages/pandas/core/internals/construction.py?line=419'>420</a>\u001b[0m passed \u001b[39m=\u001b[39m values\u001b[39m.\u001b[39mshape\n\u001b[1;32m    <a href='file:///var/data/python/lib/python3.9/site-packages/pandas/core/internals/construction.py?line=420'>421</a>\u001b[0m implied \u001b[39m=\u001b[39m (\u001b[39mlen\u001b[39m(index), \u001b[39mlen\u001b[39m(columns))\n\u001b[0;32m--> <a href='file:///var/data/python/lib/python3.9/site-packages/pandas/core/internals/construction.py?line=421'>422</a>\u001b[0m \u001b[39mraise\u001b[39;00m \u001b[39mValueError\u001b[39;00m(\u001b[39mf\u001b[39m\u001b[39m\"\u001b[39m\u001b[39mShape of passed values is \u001b[39m\u001b[39m{\u001b[39;00mpassed\u001b[39m}\u001b[39;00m\u001b[39m, indices imply \u001b[39m\u001b[39m{\u001b[39;00mimplied\u001b[39m}\u001b[39;00m\u001b[39m\"\u001b[39m)\n",
      "\u001b[0;31mValueError\u001b[0m: Shape of passed values is (1398102, 1), indices imply (1398102, 1398102)"
     ]
    }
   ],
   "source": [
    "finput = 'D1/kmers.csv'\n",
    "\n",
    "colnames = np.loadtxt(finput, dtype=str, max_rows = 1, delimiter=',')\n",
    "types = []\n",
    "types.append(str)\n",
    "\n",
    "for i in range(len(colnames) - 2):\n",
    "    types.append(np.float32)\n",
    "\n",
    "types.append(str)\n",
    "column_types = dict(zip(colnames, types))\n",
    "\n",
    "n_lines = sum(1 for row in open(finput))\n",
    "\n",
    "df = pd.DataFrame(columns=colnames)\n",
    "\n",
    "row_loops = 1\n",
    "for i in range(1, 3, row_loops): # read 500 lines at a time\n",
    "    print(i)\n",
    "    data = np.loadtxt(finput, dtype=str, skiprows=i, max_rows = row_loops, delimiter=',')\n",
    "    df_new = pd.DataFrame(data, columns=colnames)\n",
    "    df = df.append(df_new.astype(column_types), ignore_index=True)\n",
    "\n",
    "    del df_new\n",
    "    del data\n",
    "\n",
    "df = df[~df.nameseq.str.contains(\"nameseq\")]"
   ]
  }
 ],
 "metadata": {
  "interpreter": {
   "hash": "e7370f93d1d0cde622a1f8e1c04877d8463912d04d973331ad4851f04de6915a"
  },
  "kernelspec": {
   "display_name": "Python 3.9.9 64-bit",
   "language": "python",
   "name": "python3"
  },
  "language_info": {
   "codemirror_mode": {
    "name": "ipython",
    "version": 3
   },
   "file_extension": ".py",
   "mimetype": "text/x-python",
   "name": "python",
   "nbconvert_exporter": "python",
   "pygments_lexer": "ipython3",
   "version": "3.9.9"
  },
  "orig_nbformat": 4
 },
 "nbformat": 4,
 "nbformat_minor": 2
}
